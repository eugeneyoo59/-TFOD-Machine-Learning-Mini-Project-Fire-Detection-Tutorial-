{
 "cells": [
  {
   "cell_type": "markdown",
   "metadata": {},
   "source": [
    "# 1. Import Dependencies"
   ]
  },
  {
   "cell_type": "code",
   "execution_count": 19,
   "metadata": {
    "scrolled": false
   },
   "outputs": [
    {
     "name": "stdout",
     "output_type": "stream",
     "text": [
      "Requirement already satisfied: opencv-python in ./tfod/lib/python3.9/site-packages (4.6.0.66)\r\n",
      "Requirement already satisfied: numpy>=1.17.3 in ./tfod/lib/python3.9/site-packages (from opencv-python) (1.23.3)\r\n"
     ]
    }
   ],
   "source": [
    "!pip install opencv-python\n",
    "\n"
   ]
  },
  {
   "cell_type": "code",
   "execution_count": 3,
   "metadata": {},
   "outputs": [],
   "source": [
    "# Import opencv\n",
    "import cv2 \n",
    "\n",
    "# Import uuid - unique identifier that labels images uniquely\n",
    "import uuid\n",
    "\n",
    "# Import Operating System\n",
    "import os\n",
    "\n",
    "# Import time\n",
    "import time"
   ]
  },
  {
   "cell_type": "markdown",
   "metadata": {},
   "source": [
    "# 2. Define Images to Collect"
   ]
  },
  {
   "cell_type": "code",
   "execution_count": 4,
   "metadata": {},
   "outputs": [],
   "source": [
    "labels = ['thumbsup', 'thumbsdown', 'thankyou', 'livelong']\n",
    "number_imgs = 5"
   ]
  },
  {
   "cell_type": "code",
   "execution_count": 5,
   "metadata": {},
   "outputs": [
    {
     "data": {
      "text/plain": [
       "list"
      ]
     },
     "execution_count": 5,
     "metadata": {},
     "output_type": "execute_result"
    }
   ],
   "source": [
    "type(labels)"
   ]
  },
  {
   "cell_type": "markdown",
   "metadata": {},
   "source": [
    "\n",
    "# 3. Setup Folders "
   ]
  },
  {
   "cell_type": "code",
   "execution_count": 6,
   "metadata": {},
   "outputs": [],
   "source": [
    "IMAGES_PATH = os.path.join('Tensorflow', 'workspace', 'images', 'collectedimages')"
   ]
  },
  {
   "cell_type": "code",
   "execution_count": 9,
   "metadata": {},
   "outputs": [],
   "source": [
    "if not os.path.exists(IMAGES_PATH):\n",
    "    if os.name == 'posix':\n",
    "        !mkdir -p {IMAGES_PATH}\n",
    "    if os.name == 'nt':\n",
    "         !mkdir {IMAGES_PATH}\n",
    "for label in labels:\n",
    "    path = os.path.join(IMAGES_PATH, label)\n",
    "    if not os.path.exists(path):\n",
    "        !mkdir {path}"
   ]
  },
  {
   "cell_type": "markdown",
   "metadata": {},
   "source": [
    "# 4. Capture Images"
   ]
  },
  {
   "cell_type": "code",
   "execution_count": 13,
   "metadata": {},
   "outputs": [],
   "source": [
    "cap.release()"
   ]
  },
  {
   "cell_type": "code",
   "execution_count": 11,
   "metadata": {},
   "outputs": [
    {
     "name": "stdout",
     "output_type": "stream",
     "text": [
      "Collecting images for thumbsup\n",
      "Collecting image 0\n",
      "Collecting image 1\n",
      "Collecting image 2\n",
      "Collecting image 3\n",
      "Collecting image 4\n",
      "Collecting images for thumbsdown\n",
      "Collecting image 0\n",
      "Collecting image 1\n",
      "Collecting image 2\n",
      "Collecting image 3\n",
      "Collecting image 4\n",
      "Collecting images for thankyou\n",
      "Collecting image 0\n",
      "Collecting image 1\n",
      "Collecting image 2\n",
      "Collecting image 3\n",
      "Collecting image 4\n",
      "Collecting images for livelong\n",
      "Collecting image 0\n",
      "Collecting image 1\n",
      "Collecting image 2\n",
      "Collecting image 3\n",
      "Collecting image 4\n"
     ]
    }
   ],
   "source": [
    "for label in labels:\n",
    "    cap = cv2.VideoCapture(0)\n",
    "    print('Collecting images for {}'.format(label))\n",
    "    time.sleep(5) # time library is above!\n",
    "    for imgnum in range(number_imgs):\n",
    "        print('Collecting image {}'.format(imgnum))\n",
    "        ret, frame = cap.read()\n",
    "        imgname = os.path.join(IMAGES_PATH,label,label+'.'+'{}.jpg'.format(str(uuid.uuid1())))\n",
    "        cv2.imwrite(imgname, frame)\n",
    "        cv2.imshow('frame', frame)\n",
    "        time.sleep(2)\n",
    "\n",
    "        if cv2.waitKey(1) & 0xFF == ord('q'):\n",
    "            break\n",
    "cap.release()\n",
    "cv2.destroyAllWindows()"
   ]
  },
  {
   "cell_type": "markdown",
   "metadata": {},
   "source": [
    "# 5. Image Labelling"
   ]
  },
  {
   "cell_type": "code",
   "execution_count": 1,
   "metadata": {
    "scrolled": false
   },
   "outputs": [
    {
     "name": "stdout",
     "output_type": "stream",
     "text": [
      "Collecting pyqt5\n",
      "  Downloading PyQt5-5.15.7-cp37-abi3-macosx_10_13_x86_64.whl (7.0 MB)\n",
      "\u001b[2K     \u001b[90m━━━━━━━━━━━━━━━━━━━━━━━━━━━━━━━━━━━━━━━━\u001b[0m \u001b[32m7.0/7.0 MB\u001b[0m \u001b[31m6.9 MB/s\u001b[0m eta \u001b[36m0:00:00\u001b[0m00:01\u001b[0m00:01\u001b[0m\n",
      "\u001b[?25hCollecting lxml\n",
      "  Downloading lxml-4.9.1-cp39-cp39-macosx_10_15_x86_64.whl (4.6 MB)\n",
      "\u001b[2K     \u001b[90m━━━━━━━━━━━━━━━━━━━━━━━━━━━━━━━━━━━━━━━━\u001b[0m \u001b[32m4.6/4.6 MB\u001b[0m \u001b[31m6.4 MB/s\u001b[0m eta \u001b[36m0:00:00\u001b[0m00:01\u001b[0m00:01\u001b[0m\n",
      "\u001b[?25hCollecting PyQt5-Qt5>=5.15.0\n",
      "  Downloading PyQt5_Qt5-5.15.2-py3-none-macosx_10_13_intel.whl (40.5 MB)\n",
      "\u001b[2K     \u001b[90m━━━━━━━━━━━━━━━━━━━━━━━━━━━━━━━━━━━━━━━━\u001b[0m \u001b[32m40.5/40.5 MB\u001b[0m \u001b[31m5.7 MB/s\u001b[0m eta \u001b[36m0:00:00\u001b[0m00:01\u001b[0m00:01\u001b[0m\n",
      "\u001b[?25hCollecting PyQt5-sip<13,>=12.11\n",
      "  Downloading PyQt5_sip-12.11.0-cp39-cp39-macosx_10_9_universal2.whl (142 kB)\n",
      "\u001b[2K     \u001b[90m━━━━━━━━━━━━━━━━━━━━━━━━━━━━━━━━━━━━━━━\u001b[0m \u001b[32m142.5/142.5 kB\u001b[0m \u001b[31m2.0 MB/s\u001b[0m eta \u001b[36m0:00:00\u001b[0ma \u001b[36m0:00:01\u001b[0m\n",
      "\u001b[?25hInstalling collected packages: PyQt5-Qt5, PyQt5-sip, lxml, pyqt5\n",
      "Successfully installed PyQt5-Qt5-5.15.2 PyQt5-sip-12.11.0 lxml-4.9.1 pyqt5-5.15.7\n"
     ]
    }
   ],
   "source": [
    "!pip install --upgrade pyqt5 lxml"
   ]
  },
  {
   "cell_type": "code",
   "execution_count": 4,
   "metadata": {
    "scrolled": true
   },
   "outputs": [],
   "source": [
    "LABELIMG_PATH = os.path.join('Tensorflow', 'labelimg')"
   ]
  },
  {
   "cell_type": "code",
   "execution_count": 5,
   "metadata": {},
   "outputs": [
    {
     "name": "stdout",
     "output_type": "stream",
     "text": [
      "Cloning into 'Tensorflow/labelimg'...\n",
      "remote: Enumerating objects: 2097, done.\u001b[K\n",
      "remote: Counting objects: 100% (7/7), done.\u001b[K\n",
      "remote: Compressing objects: 100% (7/7), done.\u001b[K\n",
      "remote: Total 2097 (delta 0), reused 3 (delta 0), pack-reused 2090\u001b[K\n",
      "Receiving objects: 100% (2097/2097), 237.14 MiB | 5.08 MiB/s, done.\n",
      "Resolving deltas: 100% (1245/1245), done.\n"
     ]
    }
   ],
   "source": [
    "if not os.path.exists(LABELIMG_PATH):\n",
    "    !mkdir {LABELIMG_PATH}\n",
    "    !git clone https://github.com/tzutalin/labelImg {LABELIMG_PATH}"
   ]
  },
  {
   "cell_type": "code",
   "execution_count": 9,
   "metadata": {},
   "outputs": [
    {
     "name": "stdout",
     "output_type": "stream",
     "text": [
      "pyrcc5 -o libs/resources.py resources.qrc\r\n"
     ]
    }
   ],
   "source": [
    "if os.name == 'posix':\n",
    "    !cd {LABELIMG_PATH} && make qt5py3\n",
    "if os.name =='nt':\n",
    "    !cd {LABELIMG_PATH} && pyrcc5 -o libs/resources.py resources.qrc"
   ]
  },
  {
   "cell_type": "code",
   "execution_count": 10,
   "metadata": {},
   "outputs": [
    {
     "name": "stdout",
     "output_type": "stream",
     "text": [
      "2022-09-29 18:04:47.677 python[26144:1105963] TSM AdjustCapsLockLEDForKeyTransitionHandling - _ISSetPhysicalKeyboardCapsLockLED Inhibit\n",
      "Image:/Users/eugeneyoo/Desktop/code/TensorFlow Object Detection/TFODCourse/Tensorflow/workspace/images/collectedimages/livelong/livelong.b6bccd4c-3fcb-11ed-b753-1e2996c010dc.jpg -> Annotation:/Users/eugeneyoo/Desktop/code/TensorFlow Object Detection/TFODCourse/Tensorflow/workspace/images/collectedimages/livelong/livelong.b6bccd4c-3fcb-11ed-b753-1e2996c010dc.xml\n",
      "Image:/Users/eugeneyoo/Desktop/code/TensorFlow Object Detection/TFODCourse/Tensorflow/workspace/images/collectedimages/livelong/livelong.b437c748-3fcb-11ed-b753-1e2996c010dc.jpg -> Annotation:/Users/eugeneyoo/Desktop/code/TensorFlow Object Detection/TFODCourse/Tensorflow/workspace/images/collectedimages/livelong/livelong.b437c748-3fcb-11ed-b753-1e2996c010dc.xml\n",
      "Image:/Users/eugeneyoo/Desktop/code/TensorFlow Object Detection/TFODCourse/Tensorflow/workspace/images/collectedimages/livelong/livelong.b7fbda5e-3fcb-11ed-b753-1e2996c010dc.jpg -> Annotation:/Users/eugeneyoo/Desktop/code/TensorFlow Object Detection/TFODCourse/Tensorflow/workspace/images/collectedimages/livelong/livelong.b7fbda5e-3fcb-11ed-b753-1e2996c010dc.xml\n",
      "Image:/Users/eugeneyoo/Desktop/code/TensorFlow Object Detection/TFODCourse/Tensorflow/workspace/images/collectedimages/livelong/livelong.b57a927a-3fcb-11ed-b753-1e2996c010dc.jpg -> Annotation:/Users/eugeneyoo/Desktop/code/TensorFlow Object Detection/TFODCourse/Tensorflow/workspace/images/collectedimages/livelong/livelong.b57a927a-3fcb-11ed-b753-1e2996c010dc.xml\n",
      "Image:/Users/eugeneyoo/Desktop/code/TensorFlow Object Detection/TFODCourse/Tensorflow/workspace/images/collectedimages/livelong/livelong.b93a477a-3fcb-11ed-b753-1e2996c010dc.jpg -> Annotation:/Users/eugeneyoo/Desktop/code/TensorFlow Object Detection/TFODCourse/Tensorflow/workspace/images/collectedimages/livelong/livelong.b93a477a-3fcb-11ed-b753-1e2996c010dc.xml\n",
      "Image:/Users/eugeneyoo/Desktop/code/TensorFlow Object Detection/TFODCourse/Tensorflow/workspace/images/collectedimages/thankyou/thankyou.aac12b78-3fcb-11ed-b753-1e2996c010dc.jpg -> Annotation:/Users/eugeneyoo/Desktop/code/TensorFlow Object Detection/TFODCourse/Tensorflow/workspace/images/collectedimages/thankyou/thankyou.aac12b78-3fcb-11ed-b753-1e2996c010dc.xml\n",
      "Image:/Users/eugeneyoo/Desktop/code/TensorFlow Object Detection/TFODCourse/Tensorflow/workspace/images/collectedimages/thankyou/thankyou.ac033fd0-3fcb-11ed-b753-1e2996c010dc.jpg -> Annotation:/Users/eugeneyoo/Desktop/code/TensorFlow Object Detection/TFODCourse/Tensorflow/workspace/images/collectedimages/thankyou/thankyou.ac033fd0-3fcb-11ed-b753-1e2996c010dc.xml\n",
      "Image:/Users/eugeneyoo/Desktop/code/TensorFlow Object Detection/TFODCourse/Tensorflow/workspace/images/collectedimages/thankyou/thankyou.ad45089c-3fcb-11ed-b753-1e2996c010dc.jpg -> Annotation:/Users/eugeneyoo/Desktop/code/TensorFlow Object Detection/TFODCourse/Tensorflow/workspace/images/collectedimages/thankyou/thankyou.ad45089c-3fcb-11ed-b753-1e2996c010dc.xml\n",
      "Image:/Users/eugeneyoo/Desktop/code/TensorFlow Object Detection/TFODCourse/Tensorflow/workspace/images/collectedimages/thankyou/thankyou.ae87a390-3fcb-11ed-b753-1e2996c010dc.jpg -> Annotation:/Users/eugeneyoo/Desktop/code/TensorFlow Object Detection/TFODCourse/Tensorflow/workspace/images/collectedimages/thankyou/thankyou.ae87a390-3fcb-11ed-b753-1e2996c010dc.xml\n",
      "Image:/Users/eugeneyoo/Desktop/code/TensorFlow Object Detection/TFODCourse/Tensorflow/workspace/images/collectedimages/thankyou/thankyou.afc651a2-3fcb-11ed-b753-1e2996c010dc.jpg -> Annotation:/Users/eugeneyoo/Desktop/code/TensorFlow Object Detection/TFODCourse/Tensorflow/workspace/images/collectedimages/thankyou/thankyou.afc651a2-3fcb-11ed-b753-1e2996c010dc.xml\n",
      "Image:/Users/eugeneyoo/Desktop/code/TensorFlow Object Detection/TFODCourse/Tensorflow/workspace/images/collectedimages/thumbsdown/thumbsdown.a3d2de74-3fcb-11ed-b753-1e2996c010dc.jpg -> Annotation:/Users/eugeneyoo/Desktop/code/TensorFlow Object Detection/TFODCourse/Tensorflow/workspace/images/collectedimages/thumbsdown/thumbsdown.a3d2de74-3fcb-11ed-b753-1e2996c010dc.xml\n",
      "Image:/Users/eugeneyoo/Desktop/code/TensorFlow Object Detection/TFODCourse/Tensorflow/workspace/images/collectedimages/thumbsdown/thumbsdown.a14ce55a-3fcb-11ed-b753-1e2996c010dc.jpg -> Annotation:/Users/eugeneyoo/Desktop/code/TensorFlow Object Detection/TFODCourse/Tensorflow/workspace/images/collectedimages/thumbsdown/thumbsdown.a14ce55a-3fcb-11ed-b753-1e2996c010dc.xml\n",
      "Image:/Users/eugeneyoo/Desktop/code/TensorFlow Object Detection/TFODCourse/Tensorflow/workspace/images/collectedimages/thumbsdown/thumbsdown.a652eb62-3fcb-11ed-b753-1e2996c010dc.jpg -> Annotation:/Users/eugeneyoo/Desktop/code/TensorFlow Object Detection/TFODCourse/Tensorflow/workspace/images/collectedimages/thumbsdown/thumbsdown.a652eb62-3fcb-11ed-b753-1e2996c010dc.xml\n",
      "Image:/Users/eugeneyoo/Desktop/code/TensorFlow Object Detection/TFODCourse/Tensorflow/workspace/images/collectedimages/thumbsdown/thumbsdown.a2900ef6-3fcb-11ed-b753-1e2996c010dc.jpg -> Annotation:/Users/eugeneyoo/Desktop/code/TensorFlow Object Detection/TFODCourse/Tensorflow/workspace/images/collectedimages/thumbsdown/thumbsdown.a2900ef6-3fcb-11ed-b753-1e2996c010dc.xml\n",
      "Image:/Users/eugeneyoo/Desktop/code/TensorFlow Object Detection/TFODCourse/Tensorflow/workspace/images/collectedimages/thumbsdown/thumbsdown.a5118b50-3fcb-11ed-b753-1e2996c010dc.jpg -> Annotation:/Users/eugeneyoo/Desktop/code/TensorFlow Object Detection/TFODCourse/Tensorflow/workspace/images/collectedimages/thumbsdown/thumbsdown.a5118b50-3fcb-11ed-b753-1e2996c010dc.xml\n",
      "Image:/Users/eugeneyoo/Desktop/code/TensorFlow Object Detection/TFODCourse/Tensorflow/workspace/images/collectedimages/thumbsup/thumbsup.9a55f23c-3fcb-11ed-b753-1e2996c010dc.jpg -> Annotation:/Users/eugeneyoo/Desktop/code/TensorFlow Object Detection/TFODCourse/Tensorflow/workspace/images/collectedimages/thumbsup/thumbsup.9a55f23c-3fcb-11ed-b753-1e2996c010dc.xml\n",
      "Image:/Users/eugeneyoo/Desktop/code/TensorFlow Object Detection/TFODCourse/Tensorflow/workspace/images/collectedimages/thumbsup/thumbsup.9b98025c-3fcb-11ed-b753-1e2996c010dc.jpg -> Annotation:/Users/eugeneyoo/Desktop/code/TensorFlow Object Detection/TFODCourse/Tensorflow/workspace/images/collectedimages/thumbsup/thumbsup.9b98025c-3fcb-11ed-b753-1e2996c010dc.xml\n",
      "Image:/Users/eugeneyoo/Desktop/code/TensorFlow Object Detection/TFODCourse/Tensorflow/workspace/images/collectedimages/thumbsup/thumbsup.9cdab998-3fcb-11ed-b753-1e2996c010dc.jpg -> Annotation:/Users/eugeneyoo/Desktop/code/TensorFlow Object Detection/TFODCourse/Tensorflow/workspace/images/collectedimages/thumbsup/thumbsup.9cdab998-3fcb-11ed-b753-1e2996c010dc.xml\n",
      "Image:/Users/eugeneyoo/Desktop/code/TensorFlow Object Detection/TFODCourse/Tensorflow/workspace/images/collectedimages/thumbsup/thumbsup.97d00be2-3fcb-11ed-b753-1e2996c010dc.jpg -> Annotation:/Users/eugeneyoo/Desktop/code/TensorFlow Object Detection/TFODCourse/Tensorflow/workspace/images/collectedimages/thumbsup/thumbsup.97d00be2-3fcb-11ed-b753-1e2996c010dc.xml\n",
      "Image:/Users/eugeneyoo/Desktop/code/TensorFlow Object Detection/TFODCourse/Tensorflow/workspace/images/collectedimages/thumbsup/thumbsup.991370de-3fcb-11ed-b753-1e2996c010dc.jpg -> Annotation:/Users/eugeneyoo/Desktop/code/TensorFlow Object Detection/TFODCourse/Tensorflow/workspace/images/collectedimages/thumbsup/thumbsup.991370de-3fcb-11ed-b753-1e2996c010dc.xml\n"
     ]
    }
   ],
   "source": [
    "!cd {LABELIMG_PATH} && python labelImg.py"
   ]
  },
  {
   "cell_type": "markdown",
   "metadata": {},
   "source": [
    "# 6. Move them into a Training and Testing Partition"
   ]
  },
  {
   "cell_type": "markdown",
   "metadata": {},
   "source": [
    "# OPTIONAL - 7. Compress them for Colab Training"
   ]
  },
  {
   "cell_type": "code",
   "execution_count": 20,
   "metadata": {},
   "outputs": [],
   "source": [
    "TRAIN_PATH = os.path.join('Tensorflow', 'workspace', 'images', 'train')\n",
    "TEST_PATH = os.path.join('Tensorflow', 'workspace', 'images', 'test')\n",
    "ARCHIVE_PATH = os.path.join('Tensorflow', 'workspace', 'images', 'archive.tar.gz')"
   ]
  },
  {
   "cell_type": "code",
   "execution_count": 21,
   "metadata": {},
   "outputs": [],
   "source": [
    "!tar -czf {ARCHIVE_PATH} {TRAIN_PATH} {TEST_PATH}"
   ]
  },
  {
   "cell_type": "code",
   "execution_count": null,
   "metadata": {},
   "outputs": [],
   "source": []
  }
 ],
 "metadata": {
  "kernelspec": {
   "display_name": "tfod",
   "language": "python",
   "name": "tfod"
  },
  "language_info": {
   "codemirror_mode": {
    "name": "ipython",
    "version": 3
   },
   "file_extension": ".py",
   "mimetype": "text/x-python",
   "name": "python",
   "nbconvert_exporter": "python",
   "pygments_lexer": "ipython3",
   "version": "3.9.12"
  }
 },
 "nbformat": 4,
 "nbformat_minor": 2
}
